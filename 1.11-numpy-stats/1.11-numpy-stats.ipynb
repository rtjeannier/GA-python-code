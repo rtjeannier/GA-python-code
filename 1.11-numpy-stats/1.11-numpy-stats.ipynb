{
 "cells": [
  {
   "cell_type": "markdown",
   "metadata": {},
   "source": [
    "# ![](https://ga-dash.s3.amazonaws.com/production/assets/logo-9f88ae6c9c3871690e33280fcf557f33.png) Introduction to Statistics and NumPy\n",
    "Week 1 | Lesson 11 | creator: Matt Brems (DC)\n",
    "\n",
    "### LEARNING OBJECTIVES\n",
    "*After this lesson, you should be able to:*\n",
    "- Differentiate between descriptive and inferential statistics\n",
    "- Define and describe distributions\n",
    "- Calculate measures of center and spread\n",
    "- Install the NumPy library and use basic functions from NumPy"
   ]
  },
  {
   "cell_type": "markdown",
   "metadata": {},
   "source": [
    "### Introduction to Statistics\n",
    "\n",
    "**Intro:** What do you think of when you hear \"statistics?\"\n",
    "\n",
    "Statistics is an incredibly broad area of study. The tools we learn in statistics (and, closely related, probability) underlie most of what we're going to do in DSI, even if we sometimes gloss over all of the technical details.\n",
    "\n",
    "We can organize most of statistics into two large sub-fields: **descriptive** statistics and **inferential** statistics.\n",
    "\n",
    "- **Descriptive statistics** focuses on summarizing, describing, and understanding data we observe.\n",
    "- **Inferential statistics** focuses on generalizing results from a sample to a larger population.\n",
    "\n",
    "For today, we're going to focus exclusively on _descriptive statistics._"
   ]
  },
  {
   "cell_type": "markdown",
   "metadata": {},
   "source": [
    "Sometimes we want to look at two or more variables simultaneously - perhaps understanding how one changes when the other changes, or what one looks like when the other is held constant. We generally say that, when working with **multivariate statistics**, we are interested in **understanding the relationship** between two variables or among three or more variables.\n",
    "\n",
    "Other times, we are only interested in one variable at a time. It does not make sense to say that we're interested in the relationship of one variable. Instead, we are interested in the **distribution** of that variable.\n",
    "\n",
    "Formally, the **distribution of a variable describes all possible values of the variable and how frequently the variable takes on each of those values.**\n",
    "\n",
    "We most frequently visualize these with a [histogram or a bar chart](https://www.mathsisfun.com/data/histograms.html). (We use histograms for quantitative data and bar charts for categorical data.)"
   ]
  },
  {
   "cell_type": "markdown",
   "metadata": {},
   "source": [
    "Look at the following three histograms. With people in your row, take three minutes and decide how you might describe the data here to a boss or subject-matter expert who might not be familiar with what a histogram represents.\n",
    "\n",
    "Histogram 1: ![](./assets/histogram_1.png)\n",
    "\n",
    "Histogram 2: ![](./assets/histogram_2.png)\n",
    "\n",
    "Histogram 3: ![](./assets/histogram_3.png)\n"
   ]
  },
  {
   "cell_type": "markdown",
   "metadata": {},
   "source": [
    "_After three minutes, let's come together and discuss how you described each of the histograms._"
   ]
  },
  {
   "cell_type": "code",
   "execution_count": null,
   "metadata": {
    "collapsed": true
   },
   "outputs": [],
   "source": []
  },
  {
   "cell_type": "markdown",
   "metadata": {},
   "source": [
    "When working with distributions, there are three broad questions we seek to answer:\n",
    "\n",
    "1. What is the center of the distribution?\n",
    "2. What is the spread about the center of the distribution?\n",
    "3. What is the shape of the distribution of the data?"
   ]
  },
  {
   "cell_type": "markdown",
   "metadata": {},
   "source": [
    "_Before moving forward, I'd like to get some data from you. Think about how many hours you slept last night. I'm going to save these as a variable._"
   ]
  },
  {
   "cell_type": "code",
   "execution_count": 66,
   "metadata": {},
   "outputs": [],
   "source": [
    "sleep = [1,2,3,3]"
   ]
  },
  {
   "cell_type": "markdown",
   "metadata": {},
   "source": [
    "### Measures of Center\n",
    "\n",
    "There are a few ways we can measure the center of a distribution. You are likely familiar with mean, median, and mode, but we'll formally state these for now.\n",
    "\n",
    "Suppose we have $n$ observed data points. I will represent all of our data as $x_1$, $x_2$, $x_3$, $\\ldots$, $x_n$, where each $x_i$ is a separate data point.\n",
    "\n",
    "The **mean** of a distribution, often denoted $\\mu$ or $\\bar{x}$, is calculated:\n",
    "\n",
    "$$ \\mu = \\frac{\\sum_{i=1}^n x_i}{n} $$\n",
    "\n",
    "If we wanted to write a function to calculate the mean of a list, we could."
   ]
  },
  {
   "cell_type": "code",
   "execution_count": 15,
   "metadata": {},
   "outputs": [
    {
     "name": "stdout",
     "output_type": "stream",
     "text": [
      "6.95\n",
      "7.25\n"
     ]
    },
    {
     "data": {
      "image/png": "[encoded data removed]",
      "text/plain": [
       "<matplotlib.figure.Figure at 0x7f7ae0729a90>"
      ]
     },
     "metadata": {},
     "output_type": "display_data"
    }
   ],
   "source": [
    "import numpy as np\n",
    "import matplotlib.pyplot as plt\n",
    "data = [8.5,7.5,7.5,7,8,8.5,8,8.5,5,5.5,5,7.5,7,5,4.5,6,8,10,5,7]\n",
    "print(np.mean(data))\n",
    "print(np.median(data))\n",
    "\n",
    "plt.hist(data)\n",
    "plt.show()"
   ]
  },
  {
   "cell_type": "markdown",
   "metadata": {},
   "source": [
    "However, we can (and _reeeeeeeally should_) also use libraries to our benefit.\n",
    "\n",
    "## Libraries\n",
    "\n",
    "Recall from Installfest that Python is open source and that many people contribute to Python. Not surprisingly, people have found reasons to calculate the mean of a list of values before. When individuals contribute lots of code, they are often grouped in *libraries*.\n",
    "\n",
    "Libraries will be vital to our success in this class and beyond. If we don't rely on others' code and continually have to write our own, we will be far less productive data scientists than we could be."
   ]
  },
  {
   "cell_type": "code",
   "execution_count": 55,
   "metadata": {
    "collapsed": true
   },
   "outputs": [],
   "source": []
  },
  {
   "cell_type": "code",
   "execution_count": 57,
   "metadata": {},
   "outputs": [
    {
     "data": {
      "text/plain": [
       "2.0"
      ]
     },
     "execution_count": 57,
     "metadata": {},
     "output_type": "execute_result"
    }
   ],
   "source": [
    "numpy.mean(sleep)"
   ]
  },
  {
   "cell_type": "code",
   "execution_count": 58,
   "metadata": {
    "collapsed": true
   },
   "outputs": [],
   "source": [
    "import numpy as np"
   ]
  },
  {
   "cell_type": "code",
   "execution_count": 59,
   "metadata": {},
   "outputs": [
    {
     "data": {
      "text/plain": [
       "2.0"
      ]
     },
     "execution_count": 59,
     "metadata": {},
     "output_type": "execute_result"
    }
   ],
   "source": [
    "np.mean(sleep)"
   ]
  },
  {
   "cell_type": "markdown",
   "metadata": {},
   "source": [
    "The **median** of a distribution, often denoted $M$ or $m$, is calculated differently whether we have an odd number of observations or an even number of observations.\n",
    "\n",
    "If we have an odd number of observations, we sort the observations from smallest to largest, then identify the middle observation.\n",
    "\n",
    "If we have an even number of observations, we sort the observations from smallest to largest, then average the middle two observations.\n",
    "\n",
    "If we wanted to write a function to calculate the median of a list, we could. As you can imagine, though, this would take a bit more time and energy than writing a function to calculate the mean of a list. (While not required, you might want to practice this on your own!)"
   ]
  },
  {
   "cell_type": "code",
   "execution_count": 61,
   "metadata": {},
   "outputs": [
    {
     "data": {
      "text/plain": [
       "2.0"
      ]
     },
     "execution_count": 61,
     "metadata": {},
     "output_type": "execute_result"
    }
   ],
   "source": [
    "np.median(sleep)"
   ]
  },
  {
   "cell_type": "markdown",
   "metadata": {},
   "source": [
    "The **mode** of a distribution is simply the most frequently occurring observation in the dataset. If there are multiple distinct values that occur most frequently, both are considered modes.\n",
    "\n",
    "While not required, you might want to practice writing a mode function on your own! I would venture to say that you would all tackle this problem a little bit differently, which is good."
   ]
  },
  {
   "cell_type": "code",
   "execution_count": 68,
   "metadata": {},
   "outputs": [],
   "source": [
    "from scipy.stats import mode ## There is a library called scipy with a module (sub-library) called stats.\n",
    "## Rather than importing the entire scipy.stats module, we only want to import the mode function."
   ]
  },
  {
   "cell_type": "code",
   "execution_count": 69,
   "metadata": {},
   "outputs": [
    {
     "data": {
      "text/plain": [
       "ModeResult(mode=array([3]), count=array([2]))"
      ]
     },
     "execution_count": 69,
     "metadata": {},
     "output_type": "execute_result"
    }
   ],
   "source": [
    "mode(sleep)"
   ]
  },
  {
   "cell_type": "markdown",
   "metadata": {},
   "source": [
    "**So how do we know these commands are doing what we think they're doing?** [Let's check it out.](http://www.numpy.org/)"
   ]
  },
  {
   "cell_type": "markdown",
   "metadata": {},
   "source": [
    "### Measures of Spread\n",
    "\n",
    "There are a couple of methods by which we can measure the spread of a distribution. You've likely heard of range, variance, and standard deviation, but we'll formally state these for now as well.\n",
    "\n",
    "Suppose we have $n$ observed data points. I will represent all of our data as $x_1$, $x_2$, $x_3$, $\\ldots$, $x_n$, where each $x_i$ is a separate data point.\n",
    "\n",
    "The **range** of a distribution is calculated:\n",
    "\n",
    "$$ \\max\\{x_1,x_2,\\ldots,x_n\\} - \\min\\{x_1,x_2,\\ldots,x_n\\} $$\n",
    "\n",
    "Yesterday we discussed creating a function for range and some of the computational challenges associated with that."
   ]
  },
  {
   "cell_type": "code",
   "execution_count": 70,
   "metadata": {},
   "outputs": [
    {
     "data": {
      "text/plain": [
       "2"
      ]
     },
     "execution_count": 70,
     "metadata": {},
     "output_type": "execute_result"
    }
   ],
   "source": [
    "np.ptp(sleep) ## ptp refers to the acronym for \"peak to peak.\""
   ]
  },
  {
   "cell_type": "markdown",
   "metadata": {},
   "source": [
    "If we want to quantify the spread of a distribution, one way we can do so is by finding (approximately) the average distance from each data point to the mean. We call this the **standard deviation**. For reasons that will be clear shortly, however, we'll start with **variance**."
   ]
  },
  {
   "cell_type": "code",
   "execution_count": null,
   "metadata": {
    "collapsed": true
   },
   "outputs": [],
   "source": []
  },
  {
   "cell_type": "markdown",
   "metadata": {},
   "source": [
    "The **variance** of a distribution, usually denoted $\\sigma^2$ or $s^2$, is calculated:\n",
    "\n",
    "$$ \\sigma^2 = \\frac{1}{n}\\sum_{i=1}^n(x_i - \\bar{x})^2 $$\n",
    "\n",
    "\n",
    "Algorithm for Finding Variance:\n",
    "\n",
    "1. Find the mean.\n",
    "2. Take the difference of each observation and the mean.\n",
    "3. Square each result from 2.\n",
    "4. Sum each result from 3.\n",
    "5. Divide the result in 4. by n, where $n$ is the number of observations.\n",
    "\n",
    "*Note: If we're working with a sample instead of a population, we divide by $n-1$ instead of by $n$, but don't worry about that for now.*"
   ]
  },
  {
   "cell_type": "markdown",
   "metadata": {},
   "source": [
    "**Check:** What might be some limitations of using this method?"
   ]
  },
  {
   "cell_type": "markdown",
   "metadata": {},
   "source": [
    "The **standard deviation** of a distribution, usually denoted $\\sigma$ or $s$, is calculated:\n",
    "\n",
    "$$ \\sigma = \\sqrt{\\frac{1}{n}\\sum_{i=1}^n(x_i - \\bar{x})^2} $$\n",
    "\n",
    "\n",
    "Algorithm for Finding Standard Deviation:\n",
    "\n",
    "1. Find the mean.\n",
    "2. Take the difference of each observation and the mean.\n",
    "3. Square each result from 2.\n",
    "4. Sum each result from 3.\n",
    "5. Divide the result in 4. by n, where $n$ is the number of observations.\n",
    "6. Take the square root of the result in 5.\n",
    "\n",
    "*Note: If we're working with a sample instead of a population, we divide by $n-1$ instead of by $n$, but don't worry about that for now.*"
   ]
  },
  {
   "cell_type": "code",
   "execution_count": null,
   "metadata": {
    "collapsed": true
   },
   "outputs": [],
   "source": [
    "np.var(sleep)\n",
    "np.std(sleep)"
   ]
  },
  {
   "cell_type": "markdown",
   "metadata": {},
   "source": [
    "## Shapes of Distributions\n",
    "\n",
    "When discussing shapes of distributions, there are really two main things for which we look:\n",
    "\n",
    "- Do the data appear symmetric or skewed?\n",
    "- How many modes (peaks) are there?\n",
    "\n",
    "### Symmetric vs. Skewed\n",
    "If approximately 50% of the distribution is below the mean and approximately 50% of the distribution is above the mean, we call that distribution **symmetric**. Otherwise, we call the distribution **skewed**.\n",
    "\n",
    "One _rule of thumb_ is to see if the mean and median are close to one another. If the mean is approximately equal to the median, the distribution is usually symmetric. If the mean is significantly different from the median, we say that the distribution is skewed. \n",
    "\n",
    "- How far apart the mean and median are will, of course, depend on the scale of the data itself! As you can imagine, an annual income difference of 50 dollars is not much at all whereas a systolic blood pressure difference of 50 mmHg is quite substantial!\n",
    "- This is a rule of thumb and, for distributions with more than one mode, may be misleading. Be careful using only this to decide the skew of a distribution. It is always better to plot during exploratory data analysis than relying on summary statistics alone!\n",
    "\n",
    "Skewed distributions can be either **left-skewed** or **right-skewed**. Look for the \"tail\" of the distribution; if the tail is on the left, it's left-skewed! If the tail is on the right, it's right-skewed!\n",
    "\n",
    "Check out the histogram of income from above: ![](./assets/histogram_3.png)"
   ]
  },
  {
   "cell_type": "markdown",
   "metadata": {},
   "source": [
    "## Additional Resources\n",
    "\n",
    "[This site](https://students.brown.edu/seeing-theory) is a great resource for the \"shapes of distributions\" as well as a lot of probability and statistics concepts we'll encounter over the coming weeks. You should take some time to play around with it!"
   ]
  }
 ],
 "metadata": {
  "kernelspec": {
   "display_name": "Python 2",
   "language": "python",
   "name": "python2"
  },
  "language_info": {
   "codemirror_mode": {
    "name": "ipython",
    "version": 2
   },
   "file_extension": ".py",
   "mimetype": "text/x-python",
   "name": "python",
   "nbconvert_exporter": "python",
   "pygments_lexer": "ipython2",
   "version": "2.7.13"
  }
 },
 "nbformat": 4,
 "nbformat_minor": 2
}
