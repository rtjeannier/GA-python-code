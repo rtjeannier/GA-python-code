{
 "cells": [
  {
   "cell_type": "markdown",
   "metadata": {},
   "source": [
    "## Problem 1\n",
    "\n",
    "A bag contains a chip, known to be either white or black. A white chip is put in, the bag is shaken, and a chip is drawn out, which proves to be white. What is now the chance of drawing a white chip?"
   ]
  },
  {
   "cell_type": "markdown",
   "metadata": {},
   "source": [
    "#### 1-A) Given this function that simulates the game $n$ times, where $n$ is some positive integer input, include comments in here."
   ]
  },
  {
   "cell_type": "code",
   "execution_count": 24,
   "metadata": {
    "collapsed": true
   },
   "outputs": [],
   "source": [
    "import numpy as np\n",
    "def chip_game(n):\n",
    "    results = []\n",
    "    count = 1\n",
    "    # Looping over n interations\n",
    "    while count < n:\n",
    "        # Initializing the bag with chips\n",
    "        bag = ['white']\n",
    "        bag.append(np.random.choice(['white','black']))\n",
    "        # Choosing a random chip that is either black or white\n",
    "        first_chip = np.random.choice([0,1])\n",
    "        if bag[first_chip] == 'white':\n",
    "            # If chip is white, remove it from the bag and add what is left to our results\n",
    "            bag.pop(first_chip)\n",
    "            results.append(bag)\n",
    "            count += 1\n",
    "        # Calculating the percent of times the chip left in th bag was white\n",
    "    return float(results.count(['white'])) / len(results)"
   ]
  },
  {
   "cell_type": "markdown",
   "metadata": {},
   "source": [
    "#### 1-B) Simulate this game 5 times. Record your results. What do you conclude about them?"
   ]
  },
  {
   "cell_type": "code",
   "execution_count": 2,
   "metadata": {},
   "outputs": [
    {
     "name": "stdout",
     "output_type": "stream",
     "text": [
      "0.6\n"
     ]
    }
   ],
   "source": [
    "results = chip_game(6)\n",
    "print(results)"
   ]
  },
  {
   "cell_type": "markdown",
   "metadata": {},
   "source": [
    "After five simulations it appears that there is approximately 75% chance that the chip pulled was white"
   ]
  },
  {
   "cell_type": "markdown",
   "metadata": {},
   "source": [
    "#### 1-C) Simulate this game 50 times. Record your results. What do you conclude about them?"
   ]
  },
  {
   "cell_type": "code",
   "execution_count": 3,
   "metadata": {},
   "outputs": [
    {
     "name": "stdout",
     "output_type": "stream",
     "text": [
      "0.551020408163\n"
     ]
    }
   ],
   "source": [
    "results = chip_game(50)\n",
    "print(results)"
   ]
  },
  {
   "cell_type": "markdown",
   "metadata": {},
   "source": [
    "This time the value is somewhat less, but likely converging on a more accurate result. Something close to 60% chance to draw the white chip."
   ]
  },
  {
   "cell_type": "markdown",
   "metadata": {},
   "source": [
    "#### 1-D) Simulate this game 50,000 times. Record your results. "
   ]
  },
  {
   "cell_type": "code",
   "execution_count": 4,
   "metadata": {},
   "outputs": [
    {
     "name": "stdout",
     "output_type": "stream",
     "text": [
      "0.665533310666\n"
     ]
    }
   ],
   "source": [
    "results = chip_game(50000)\n",
    "print(results)"
   ]
  },
  {
   "cell_type": "markdown",
   "metadata": {},
   "source": [
    "#### 1-E) By hand, find the probability that the second chip drawn is white. How does this match up with your answers from 1-B, 1-C, and 1-D?"
   ]
  },
  {
   "cell_type": "markdown",
   "metadata": {
    "collapsed": true
   },
   "source": [
    "There are two scenarios. Either the bag had a white chip, or the bag had a black chip.\n",
    "If the bag had a white chip and we add a white chip, there is a 100% chance we will draw a white chip next.\n",
    "If the bag had a black chip, then there is a 0% chance the next chip drawn will be white.\n",
    "\n",
    "Let's start be find the probability we would have drawn a white chip first.\n",
    "\n",
    "We need to calculate the probability we are in a given scenario based on the first event we have witnessed.\n",
    "\n",
    "So, how many ways could we have drawn a white chip first in the this scenario. We could have drawn the first chip that was in the bag to start, or we could have draw the chip we added to the bag. So there are two total scenarios.\n"
   ]
  },
  {
   "cell_type": "markdown",
   "metadata": {},
   "source": [
    "```#P(scenario_1) + P(scenario_2)\n",
    "P(scenario1) = original/total_chips + new/total_chips # in this case they are both white\n",
    "P(scenario2) = new/total_chips # only the new chip is white```\n",
    "\n"
   ]
  },
  {
   "cell_type": "markdown",
   "metadata": {},
   "source": [
    "Looking at the above, we can see there are 3 events, that individually are all equally likely, 2 are in the first scenario, and 1 is in the second scenario. Of these 3 events, both events from the first scenario result in a white chip still remaining in the bag. So we can conclude that the probability of the first scenario, divided by the probability of screnario1 + scenario2 should equal the probability that we will draw a white chip next."
   ]
  },
  {
   "cell_type": "markdown",
   "metadata": {},
   "source": [
    "```P = P(scenario1)/(P(scenario1) + P(scenario2))\n",
    "P = (1/2 + 1/2)/((1/2+1/2) + 1/2)```"
   ]
  },
  {
   "cell_type": "code",
   "execution_count": 5,
   "metadata": {},
   "outputs": [
    {
     "name": "stdout",
     "output_type": "stream",
     "text": [
      "0.666666666667\n"
     ]
    }
   ],
   "source": [
    "P = (1/2.0 + 1/2.)/((1/2.+1/2.) + 1/2.)\n",
    "print(P)"
   ]
  },
  {
   "cell_type": "markdown",
   "metadata": {},
   "source": [
    "We can see as we increase teh number of trials, we get closer to the true value. We can also see at low trials, it is not possible for their to be enough results to get a resolution high enough to resolve the true value. There is no possible combination of 5 simulation that could result to an average of .6667. The closest decimal to .6667 that can be multiplied by 5 to get a whole number is .6."
   ]
  },
  {
   "cell_type": "markdown",
   "metadata": {},
   "source": [
    "## Problem 2\n",
    "\n",
    "Two players are playing a game where they flip a *not necessarily fair* coin, starting with Player 1. The first person to flip heads wins. The probability that a coin flipped lands on heads is p. What is the probability that Player 1 will win the game?"
   ]
  },
  {
   "cell_type": "markdown",
   "metadata": {},
   "source": [
    "#### 2-A) Build a function that simulates this game with two inputs: n (the number of times to simulate this game) and p (the probability of flipping heads)."
   ]
  },
  {
   "cell_type": "code",
   "execution_count": 25,
   "metadata": {
    "collapsed": true
   },
   "outputs": [],
   "source": [
    "\n",
    "#returns the percent of times the event with probability p occured in n simulations, and the number of rounds it\n",
    "#took on average to find a winner\n",
    "def coin_flip (n, p):\n",
    "    wins = 0\n",
    "    rounds = []\n",
    "    for i in range(0,n):\n",
    "        game_over = False\n",
    "        # This is a loop for the number of turns it takes to find a winner, it should ideally never hit the\n",
    "        # max of 10000, but it's better to have it then risk an infinite loop.\n",
    "        for j in range(1,10000):\n",
    "            # If P is greater than the random number created, then we are saying the win event took place\n",
    "            if(p >= np.random.random()):\n",
    "                #It only counts as a win if you win on your turn, so we need to mod i by 2\n",
    "                if j%2 != 0:\n",
    "                    wins+=1\n",
    "                #Regardless of who the winner is, if the heads event occurs the game is OVER\n",
    "                rounds.append(j)\n",
    "                break\n",
    "            j+=1\n",
    "            # Here I am keeping track of games that never result in a win. Specifically I am addressing the use\n",
    "            # case of p=0.\n",
    "            if(j==10000):\n",
    "                rounds.append(j)\n",
    "                \n",
    "    return float(wins/float(n)), sum(rounds)/float(len(rounds))\n",
    "  \n",
    "    "
   ]
  },
  {
   "cell_type": "markdown",
   "metadata": {},
   "source": [
    "#### 2-B) Simulate this game 10,000 times each for p = 0.1, 0.25, 0.33, 0.5, 0.67, 0.75, 0.9, and 1. Record your results. Based on this, can you come up with an estimate of the probability that player 1 will win the game?\n",
    "\n",
    "(_Hint: the answer will be a function of the probability of heads $p$ and the probability of tails $1-p$._)"
   ]
  },
  {
   "cell_type": "code",
   "execution_count": 7,
   "metadata": {
    "collapsed": true
   },
   "outputs": [],
   "source": [
    "p = [0.1, 0.25, 0.33, 0.5, 0.67, 0.75, 0.9, 1]\n",
    "\n",
    "results = list(map(lambda a: coin_flip(10000,a)[0], p))"
   ]
  },
  {
   "cell_type": "code",
   "execution_count": 8,
   "metadata": {},
   "outputs": [
    {
     "name": "stdout",
     "output_type": "stream",
     "text": [
      "[0.5175, 0.5732, 0.6046, 0.6736, 0.7551, 0.8032, 0.9127, 1.0]\n"
     ]
    }
   ],
   "source": [
    "print(results)"
   ]
  },
  {
   "cell_type": "markdown",
   "metadata": {},
   "source": [
    "The way I wrote this method, the results are the probability that player one wins the game. You can clearly see the advantage of going first."
   ]
  },
  {
   "cell_type": "markdown",
   "metadata": {},
   "source": [
    "#### 2-C) Suppose you simulate this game with p = 0. What do you expect to happen? Why?"
   ]
  },
  {
   "cell_type": "markdown",
   "metadata": {},
   "source": [
    "I expect my method to return 0 wins, and take a long time to run. I wrote it so that it would not infinite loop by putting a max number of rounds until the game ends in a tie. Had I not do that, it would have looped forever waiting for a heads to appear."
   ]
  },
  {
   "cell_type": "code",
   "execution_count": 9,
   "metadata": {},
   "outputs": [
    {
     "name": "stdout",
     "output_type": "stream",
     "text": [
      "number of wins: (0.0, 10000.0)\n",
      "total time to run: 34.2978339195\n"
     ]
    }
   ],
   "source": [
    "import time\n",
    "time1 = time.time()\n",
    "print(\"number of wins: \" + str(coin_flip(10000, 0)))\n",
    "print(\"total time to run: \" + str(time.time()-time1))"
   ]
  },
  {
   "cell_type": "markdown",
   "metadata": {},
   "source": [
    "## Problem 3\n",
    "\n",
    "Suppose I want to build two functions: `random_sample(k,data)` and `stratified_sample(k,var,data)`.\n",
    "\n",
    "`random_sample(k,data)` should take a **simple random sample** of $k$ observations **without replacement** from `data`.\n",
    "\n",
    "`stratified_sample(k,var,data)` should take a **stratified random sample** of $k$ observations **without replacement** from `data`, where the variable on which you stratify is `var`. (Hint: Use the simple random sample function you defined above, then find the percentage of observations from each stratum in `var`, then randomly select from each stratum in `var`, then combine the results.)\n",
    "\n",
    "Build these functions."
   ]
  },
  {
   "cell_type": "code",
   "execution_count": 26,
   "metadata": {
    "collapsed": true
   },
   "outputs": [],
   "source": [
    "def random_sample(k, data):\n",
    "    return np.random.choice(data, k, replace=False)\n",
    "\n",
    "\n",
    "def stratified_rand_sample(k, var, data):\n",
    "    #I am going to assume var is a list of boolean arrays that filters the data into unique sets\n",
    "   \n",
    "    result = []\n",
    "    for v in var:\n",
    "        k_ = sum(filter(lambda a: a, v))/float(len(data))\n",
    "        result.append(random_sample(int(round(k*k_)), list(data[v])))\n",
    "\n",
    "    return result\n",
    "        "
   ]
  },
  {
   "cell_type": "markdown",
   "metadata": {},
   "source": [
    "## Problem 4\n",
    "\n",
    "In a class of 50 students, there are 20 men and 30 women. Exactly one man is named `Sam` and exactly one woman is named `Miranda`.\n",
    "\n",
    "4-A) What is the probability that a simple random sample of 5 people contains two men and three women?\n",
    "\n",
    "4-B) What is the probability that a simple random sample of 5 people contains both Sam and Miranda?\n",
    "\n",
    "4-C) What is the probability that a stratified random sample (stratified on sex) of 5 people contains both Sam and Miranda?"
   ]
  },
  {
   "cell_type": "markdown",
   "metadata": {},
   "source": [
    "We are going to initialize a data set where men are even and women are odd. We can then use mod to count them for easy math, and use their numbers as unique IDs."
   ]
  },
  {
   "cell_type": "code",
   "execution_count": 30,
   "metadata": {},
   "outputs": [
    {
     "name": "stdout",
     "output_type": "stream",
     "text": [
      "[ 0  2  4  6  8 10 12 14 16 18 20 22 24 26 28 30 32 34 36 38  1  3  5  7  9\n",
      " 11 13 15 17 19 21 23 25 27 29 31 33 35 37 39 41 43 45 47 49 51 53 55 57 59]\n"
     ]
    }
   ],
   "source": [
    "men = np.array(range(0,40, 2)) # Men are even numbers\n",
    "women = np.array(range(1,60, 2))# Women are odd numbers\n",
    "data = np.append(men, women) # creating the data set\n",
    "print(data)"
   ]
  },
  {
   "cell_type": "code",
   "execution_count": 31,
   "metadata": {
    "collapsed": true
   },
   "outputs": [],
   "source": [
    "def hacker_prob(k, condition, data, iterations=10000):\n",
    "    count = 0\n",
    "    # We are iterating over a large number by default, but we can up the accuracy if we would like\n",
    "    for i in range(0,iterations):\n",
    "        temp = random_sample(k,data)\n",
    "        if condition(temp):\n",
    "            count+=1\n",
    "    return float(count/float(iterations))"
   ]
  },
  {
   "cell_type": "code",
   "execution_count": 33,
   "metadata": {},
   "outputs": [
    {
     "name": "stdout",
     "output_type": "stream",
     "text": [
      "The probability of exactly 3 women with 5 people is: 0.3664\n"
     ]
    }
   ],
   "source": [
    "# We are summing our array because we are passing in 1 and 0s (after we . The number N is the number of woman\n",
    "# So summing is the same as counting each occurance of woman.\n",
    "cond = lambda temp: int(sum(temp%2)) == 3\n",
    "print(\"The probability of exactly 3 women with 5 people is: \" + str(hacker_prob(5, cond, data)))"
   ]
  },
  {
   "cell_type": "code",
   "execution_count": 32,
   "metadata": {},
   "outputs": [
    {
     "name": "stdout",
     "output_type": "stream",
     "text": [
      "The probability of both sam and miranda in a group of with 5 people is: 0.0083\n"
     ]
    }
   ],
   "source": [
    "#We are now trying to find two arbitrary members in the group of people. we can use 0 and 1 to represent sam and miranda\n",
    "\n",
    "cond = lambda temp: all(x in temp for x in [0,1])\n",
    "print(\"The probability of both sam and miranda in a group of with 5 people is: \" + str(hacker_prob(5, cond, data)))"
   ]
  },
  {
   "cell_type": "code",
   "execution_count": 15,
   "metadata": {
    "collapsed": true
   },
   "outputs": [],
   "source": [
    "var_filter_men = data % 2 == 0\n",
    "var_filter_women = data % 2 != 0\n",
    "var_filter = [var_filter_men, var_filter_women]\n",
    "    \n",
    "cond = lambda temp: all(x in temp[i] for (i,x) in enumerate([0,1]))\n",
    "\n",
    "def hacker_prob_2(k, condition, data, iterations=1000000):\n",
    "    count = 0\n",
    "    # We are iterating over a large number by default, but we can up the accuracy if we would like\n",
    "    for i in range(0,iterations):\n",
    "        temp =stratified_rand_sample(k, var_filter, data)\n",
    "        if all(x in temp[i] for (i,x) in enumerate([0,1])):\n",
    "            count+=1\n",
    "    return float(count/float(iterations))\n",
    "\n"
   ]
  },
  {
   "cell_type": "code",
   "execution_count": 16,
   "metadata": {},
   "outputs": [
    {
     "name": "stdout",
     "output_type": "stream",
     "text": [
      "The probability of both sam and miranda in respective groups: 0.010061\n"
     ]
    }
   ],
   "source": [
    "\n",
    "print(\"The probability of both sam and miranda in respective groups: \" + str(hacker_prob_2(5, cond, data)))"
   ]
  },
  {
   "cell_type": "markdown",
   "metadata": {},
   "source": [
    "## Below I am working out the math by hand to see if my hacker stats lines up."
   ]
  },
  {
   "cell_type": "code",
   "execution_count": 17,
   "metadata": {
    "collapsed": true
   },
   "outputs": [],
   "source": [
    "p1 = 44*48*47*46*45\n",
    "p2 = 50*49*48*47*46\n",
    "p3 = 49*48*47*46*45"
   ]
  },
  {
   "cell_type": "code",
   "execution_count": 18,
   "metadata": {
    "collapsed": true
   },
   "outputs": [],
   "source": [
    "#The probability that I would not draw sam or maranda\n",
    "t = 1-((p3/float(p2))*2 - p1/float(p2))\n"
   ]
  },
  {
   "cell_type": "code",
   "execution_count": 19,
   "metadata": {},
   "outputs": [
    {
     "data": {
      "text/plain": [
       "0.008163265306122436"
      ]
     },
     "execution_count": 19,
     "metadata": {},
     "output_type": "execute_result"
    }
   ],
   "source": [
    "t"
   ]
  },
  {
   "cell_type": "code",
   "execution_count": 20,
   "metadata": {
    "collapsed": true
   },
   "outputs": [],
   "source": [
    "w1 = 29* 28* 27.\n",
    "w2 = 28 * 27*16\n",
    "w = 30*29*28.\n",
    "\n",
    "m1  = 19*18.\n",
    "m = 20*19.\n",
    "m2 = 1\n",
    "\n",
    "p = m1/m* w1/w"
   ]
  },
  {
   "cell_type": "code",
   "execution_count": 21,
   "metadata": {},
   "outputs": [
    {
     "data": {
      "text/plain": [
       "0.010761242185924582"
      ]
     },
     "execution_count": 21,
     "metadata": {},
     "output_type": "execute_result"
    }
   ],
   "source": [
    "t1 = 1/30. + 1/29. + 1/27.\n",
    "t2 = 1/20. + 1/19.\n",
    "t1 *t2"
   ]
  },
  {
   "cell_type": "code",
   "execution_count": 22,
   "metadata": {},
   "outputs": [
    {
     "data": {
      "text/plain": [
       "0.3640808774943835"
      ]
     },
     "execution_count": 22,
     "metadata": {},
     "output_type": "execute_result"
    }
   ],
   "source": [
    "20/50. * 19/49. * 30/48.* 29/47. * 28/46. * 10 #multiplying by 10 for 5 choose 3)"
   ]
  },
  {
   "cell_type": "code",
   "execution_count": 23,
   "metadata": {},
   "outputs": [
    {
     "data": {
      "text/plain": [
       "0.008163265306122436"
      ]
     },
     "execution_count": 23,
     "metadata": {},
     "output_type": "execute_result"
    }
   ],
   "source": [
    "#what is the probability you will select sam and miranda\n",
    "\n",
    "1 -((2*(49.*48*47*46*45)/(50*49*48*47*46)) - ((48*47*46*45*44.)/(50*49*48*47*46)))"
   ]
  },
  {
   "cell_type": "markdown",
   "metadata": {},
   "source": [
    "So my hacker stats lines up with my math stats, but I'm not totally sure either one is right.\n",
    "\n"
   ]
  },
  {
   "cell_type": "code",
   "execution_count": null,
   "metadata": {
    "collapsed": true
   },
   "outputs": [],
   "source": []
  }
 ],
 "metadata": {
  "anaconda-cloud": {},
  "kernelspec": {
   "display_name": "Python 2",
   "language": "python",
   "name": "python2"
  },
  "language_info": {
   "codemirror_mode": {
    "name": "ipython",
    "version": 2
   },
   "file_extension": ".py",
   "mimetype": "text/x-python",
   "name": "python",
   "nbconvert_exporter": "python",
   "pygments_lexer": "ipython2",
   "version": "2.7.13"
  }
 },
 "nbformat": 4,
 "nbformat_minor": 1
}
