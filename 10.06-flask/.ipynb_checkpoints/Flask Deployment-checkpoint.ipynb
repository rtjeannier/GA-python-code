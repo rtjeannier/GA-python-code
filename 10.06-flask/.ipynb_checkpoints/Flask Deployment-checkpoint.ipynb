{
 "cells": [
  {
   "cell_type": "markdown",
   "metadata": {},
   "source": [
    "# Deploying Models"
   ]
  },
  {
   "cell_type": "markdown",
   "metadata": {},
   "source": [
    "By now in the class you've learned how to do data analysis, how to fit data, and how to make predications with machine learning algorithms.\n",
    "\n",
    "But what about how to actually deploy the models you create? How could we allow other people to interact with it?\n",
    "\n",
    "Today we'll go over one method to deploy our models. Using a simple process.\n",
    "\n",
    "Python -> SKLEARN -> Pickle -> Flask -> Heroku\n"
   ]
  },
  {
   "cell_type": "markdown",
   "metadata": {},
   "source": [
    "First, we'll import pandas and read in some data:\n",
    "\n"
   ]
  },
  {
   "cell_type": "markdown",
   "metadata": {},
   "source": [
    "# Step 1: Make a directory tree\n",
    "\n",
    "Web developers use directory trees to build their apps.\n",
    "\n",
    "Open your terminal and cd into a the folder where you want to crete your web app. In my case I'll use my documents folder.\n",
    "\n",
    "```bash\n",
    "cd ~/Documents\n",
    "mkdir flask_app\n",
    "cd flask_app\n",
    "mkdir templates\n",
    "touch app.py\n",
    "\n",
    "```"
   ]
  },
  {
   "cell_type": "markdown",
   "metadata": {},
   "source": [
    "We now have a file tree that looks like this:\n",
    "```bash\n",
    "flask_app\n",
    "    /templates\n",
    "    app.py\n",
    " ```\n",
    " \n",
    " \n",
    " \"app.py\" will be our main code that is run by python\n",
    " the templates folder will contain two different HTML files. These will render webpages based on what the app.py tells them.\n",
    " "
   ]
  },
  {
   "cell_type": "markdown",
   "metadata": {},
   "source": [
    "# Step 2: Build the Model"
   ]
  },
  {
   "cell_type": "code",
   "execution_count": 1,
   "metadata": {
    "collapsed": true
   },
   "outputs": [],
   "source": [
    "import pandas as pd\n",
    "df = pd.read_csv('https://raw.githubusercontent.com/xcitech/ml-flask-tutorial/master/sample_data.csv')"
   ]
  },
  {
   "cell_type": "code",
   "execution_count": 2,
   "metadata": {},
   "outputs": [
    {
     "data": {
      "text/html": [
       "<div>\n",
       "<style>\n",
       "    .dataframe thead tr:only-child th {\n",
       "        text-align: right;\n",
       "    }\n",
       "\n",
       "    .dataframe thead th {\n",
       "        text-align: left;\n",
       "    }\n",
       "\n",
       "    .dataframe tbody tr th {\n",
       "        vertical-align: top;\n",
       "    }\n",
       "</style>\n",
       "<table border=\"1\" class=\"dataframe\">\n",
       "  <thead>\n",
       "    <tr style=\"text-align: right;\">\n",
       "      <th></th>\n",
       "      <th>ORIGIN</th>\n",
       "      <th>DEST</th>\n",
       "      <th>UNIQUE_CARRIER</th>\n",
       "      <th>DAY_OF_WEEK</th>\n",
       "      <th>DEP_HOUR</th>\n",
       "      <th>ARR_DELAY</th>\n",
       "    </tr>\n",
       "  </thead>\n",
       "  <tbody>\n",
       "    <tr>\n",
       "      <th>0</th>\n",
       "      <td>DEN</td>\n",
       "      <td>ORD</td>\n",
       "      <td>AA</td>\n",
       "      <td>5</td>\n",
       "      <td>6</td>\n",
       "      <td>52.0</td>\n",
       "    </tr>\n",
       "    <tr>\n",
       "      <th>1</th>\n",
       "      <td>BOS</td>\n",
       "      <td>DFW</td>\n",
       "      <td>AA</td>\n",
       "      <td>2</td>\n",
       "      <td>5</td>\n",
       "      <td>132.0</td>\n",
       "    </tr>\n",
       "    <tr>\n",
       "      <th>2</th>\n",
       "      <td>IAH</td>\n",
       "      <td>LAX</td>\n",
       "      <td>UA</td>\n",
       "      <td>6</td>\n",
       "      <td>14</td>\n",
       "      <td>35.0</td>\n",
       "    </tr>\n",
       "    <tr>\n",
       "      <th>3</th>\n",
       "      <td>SFO</td>\n",
       "      <td>ORD</td>\n",
       "      <td>UA</td>\n",
       "      <td>7</td>\n",
       "      <td>8</td>\n",
       "      <td>14.0</td>\n",
       "    </tr>\n",
       "    <tr>\n",
       "      <th>4</th>\n",
       "      <td>PHX</td>\n",
       "      <td>SFO</td>\n",
       "      <td>OO</td>\n",
       "      <td>2</td>\n",
       "      <td>11</td>\n",
       "      <td>84.0</td>\n",
       "    </tr>\n",
       "  </tbody>\n",
       "</table>\n",
       "</div>"
      ],
      "text/plain": [
       "  ORIGIN DEST UNIQUE_CARRIER  DAY_OF_WEEK  DEP_HOUR  ARR_DELAY\n",
       "0    DEN  ORD             AA            5         6       52.0\n",
       "1    BOS  DFW             AA            2         5      132.0\n",
       "2    IAH  LAX             UA            6        14       35.0\n",
       "3    SFO  ORD             UA            7         8       14.0\n",
       "4    PHX  SFO             OO            2        11       84.0"
      ]
     },
     "execution_count": 2,
     "metadata": {},
     "output_type": "execute_result"
    }
   ],
   "source": [
    "df.head()"
   ]
  },
  {
   "cell_type": "markdown",
   "metadata": {},
   "source": [
    "Let's create a bunch of dummy variables"
   ]
  },
  {
   "cell_type": "code",
   "execution_count": 3,
   "metadata": {
    "collapsed": true
   },
   "outputs": [],
   "source": [
    "df = pd.concat([df,pd.get_dummies(df['UNIQUE_CARRIER'],drop_first=True,prefix=\"UNIQUE_CARRIER\")],axis=1)\n",
    "df = pd.concat([df,pd.get_dummies(df['ORIGIN'],drop_first=True,prefix=\"ORIGIN\")],axis=1)\n",
    "df = pd.concat([df,pd.get_dummies(df['DEST'],drop_first=True,prefix=\"DEST\")],axis=1)\n",
    "df = pd.concat([df,pd.get_dummies(df['DAY_OF_WEEK'],drop_first=True,prefix=\"DAY_OF_WEEK\")],axis=1)\n",
    "df = pd.concat([df,pd.get_dummies(df['DEP_HOUR'],drop_first=True,prefix=\"DEP_HOUR\")],axis=1)\n",
    "df.drop(['ORIGIN','DEST','UNIQUE_CARRIER','DAY_OF_WEEK','DEP_HOUR'],axis=1,inplace=True)\n"
   ]
  },
  {
   "cell_type": "markdown",
   "metadata": {},
   "source": [
    "Now we fit our model"
   ]
  },
  {
   "cell_type": "code",
   "execution_count": 4,
   "metadata": {
    "collapsed": true
   },
   "outputs": [],
   "source": [
    "from sklearn.model_selection import train_test_split\n",
    "X_train, X_test, y_train, y_test = train_test_split(df.drop('ARR_DELAY',axis=1),df['ARR_DELAY'], test_size=0.30)"
   ]
  },
  {
   "cell_type": "code",
   "execution_count": null,
   "metadata": {
    "collapsed": true
   },
   "outputs": [],
   "source": [
    "from sklearn.linear_model import LogisticRegression\n",
    "#Train the model\n",
    "logmodel = LogisticRegression()\n",
    "logmodel.fit(X_train,y_train)"
   ]
  },
  {
   "cell_type": "code",
   "execution_count": null,
   "metadata": {
    "collapsed": true
   },
   "outputs": [],
   "source": [
    "#Predicting on the Test Set\n",
    "predictions = logmodel.score(X_test,y_test)\n",
    "predictions"
   ]
  },
  {
   "cell_type": "markdown",
   "metadata": {},
   "source": [
    "# Step 3: Pickling\n",
    "\n",
    "Now that we've made our model we can use the python built-in persistence model: pickle.\n",
    "\n",
    "Pickling converts object to a bytestream which we can save. Later, we can unpickle it and turn it back into our model"
   ]
  },
  {
   "cell_type": "code",
   "execution_count": null,
   "metadata": {
    "collapsed": true
   },
   "outputs": [],
   "source": [
    "import pickle"
   ]
  },
  {
   "cell_type": "code",
   "execution_count": null,
   "metadata": {
    "collapsed": true
   },
   "outputs": [],
   "source": [
    "with open('/Users/markmummert/Documents/flask_app/logmodel.pkl','wb') as fid:\n",
    "    pickle.dump(logmodel, fid,2)"
   ]
  },
  {
   "cell_type": "code",
   "execution_count": null,
   "metadata": {
    "collapsed": true
   },
   "outputs": [],
   "source": [
    "#Create a Dataframe with only the dummy variables\n",
    "#Create a dictionary that pairs the dummy variables with their values.\n",
    "cat = df.drop('ARR_DELAY',axis=1)\n",
    "index_dict = dict(zip(cat.columns,range(cat.shape[1])))\n",
    "\n",
    "with open('/Users/markmummert/Documents/flask_app/cat', 'wb') as fid:\n",
    "    pickle.dump(index_dict, fid,2)  "
   ]
  },
  {
   "cell_type": "code",
   "execution_count": null,
   "metadata": {
    "collapsed": true
   },
   "outputs": [],
   "source": [
    "index_dict"
   ]
  },
  {
   "cell_type": "markdown",
   "metadata": {},
   "source": [
    "# Step 4: Create a new Virtual Environment"
   ]
  },
  {
   "cell_type": "markdown",
   "metadata": {},
   "source": [
    "### What is a virtual environment?\n",
    "\n",
    "A virtual environment will allow us to keep track of the dependencises we need for our project. We'll create one and install only what we need to run our app."
   ]
  },
  {
   "cell_type": "markdown",
   "metadata": {},
   "source": [
    "```bash\n",
    "conda create -n flask_env python=2.7\n",
    "source activate flask_env\n",
    "\n",
    "pip install flask gunicorn\n",
    "pip install pandas\n",
    "pip install scipy\n",
    "pip install numpy\n",
    "pip install sklearn\n",
    "\n",
    "```\n",
    "\n"
   ]
  },
  {
   "cell_type": "markdown",
   "metadata": {},
   "source": [
    "# Step 5: Build the Flask App\n",
    "\n",
    "Flask is a microframework, meaning that it's a simple and small framework that lets us embed python code in HTML.\n",
    "\n",
    "ginja is templating language - loops and variablesin HTML.\n",
    "\n",
    "The app has two main components:\n",
    "- python app\n",
    "- HTML templates\n"
   ]
  },
  {
   "cell_type": "markdown",
   "metadata": {},
   "source": [
    "### 5a: Open the app.py file we made earlier and add the following python code.\n",
    "\n",
    "```python\n",
    "from flask import Flask, request, render_template\n",
    "import pickle\n",
    "import numpy as np\n",
    "\n",
    "app = Flask(__name__)\n",
    "\n",
    "@app.route('/')\n",
    "def home():\n",
    "\treturn render_template('home.html')\n",
    "    #letting flask know where to find the home template\n",
    "\n",
    "#submitting the form on home runs this:\n",
    "@app.route('/getdelay',methods=['POST','GET'])\n",
    "def get_delay():\n",
    "    if request.method=='POST':\n",
    "        result=request.form\n",
    "\t\t\n",
    "\t\t#Prepare the feature vector for prediction\n",
    "        pkl_file = open('cat', 'rb')\n",
    "        index_dict = pickle.load(pkl_file)\n",
    "        new_vector = np.zeros(len(index_dict))\n",
    "        \n",
    "        try:\n",
    "            new_vector[index_dict['DAY_OF_WEEK_'+str(result['day_of_week'])]] = 1\n",
    "        except:\n",
    "            pass\n",
    "        try:\n",
    "            new_vector[index_dict['UNIQUE_CARRIER_'+str(result['unique_carrier'])]] = 1\n",
    "        except:\n",
    "            pass\n",
    "        try:\n",
    "            new_vector[index_dict['ORIGIN_'+str(result['origin'])]] = 1\n",
    "        except:\n",
    "            pass\n",
    "        try:\n",
    "            new_vector[index_dict['DEST_'+str(result['dest'])]] = 1\n",
    "        except:\n",
    "            pass\n",
    "        try:\n",
    "            new_vector[index_dict['DEP_HOUR_'+str(result['dep_hour'])]] = 1\n",
    "        except:\n",
    "            pass\n",
    "        \n",
    "        pkl_file = open('logmodel.pkl', 'rb')\n",
    "        logmodel = pickle.load(pkl_file)\n",
    "        prediction = logmodel.predict(new_vector.reshape(1, -1))\n",
    "        \n",
    "        return render_template('result.html',prediction=prediction)\n",
    "\n",
    "    \n",
    "if __name__ == '__main__':\n",
    "\tapp.run()\n",
    "\n",
    "```"
   ]
  },
  {
   "cell_type": "markdown",
   "metadata": {},
   "source": [
    "### 5b: In the /templates folder create an html file called 'home.html' and add the following"
   ]
  },
  {
   "cell_type": "markdown",
   "metadata": {},
   "source": [
    "```html\n",
    "<!DOCTYPE html>\n",
    "<html>\n",
    "<title>Airline-delay-Prediction App</title>\n",
    "<body>\n",
    "\n",
    "<form action = \"/getdelay\" method=\"POST\">\n",
    "\t<p> Select Origin:<input name=\"origin\" type =\"text\" value=\"JFK\" /> </p>\n",
    "\t<p> Select Destination: <input name=\"dest\" type =\"text\" value=\"LAX\" /> </p>\n",
    "\t<p> Select Airline :   \n",
    "\t<select name=\"unique_carrier\">\n",
    "\t\t<option value=\"AA\">American Airlines </option>\n",
    "\t\t<option value=\"DL\">Delta Air Lines </option>\n",
    "\t\t<option value=\"B6\">JetBlue Airways</option>\n",
    "\t\t<option value=\"WN\">Southwest Airlines </option>\n",
    "\t\t<option value=\"UA\" selected>United Air Lines </option>\n",
    "\t</select>\n",
    "\t<p> Select Day of Week:<input name=\"day_of_week\" type =\"text\" value=\"1\" /> </p>\n",
    "\t<p> Select Departure Hour: <input name=\"dep_hour\" type =\"text\" value=\"10\" /> </p>\n",
    "\t<p> <input type =\"submit\" value=\"submit\" /> </p>\n",
    "</form>\n",
    "</body>\n",
    "</html>\n",
    "```"
   ]
  },
  {
   "cell_type": "markdown",
   "metadata": {},
   "source": [
    "### 5c: In the /templates folder create an html file called 'result.html'"
   ]
  },
  {
   "cell_type": "markdown",
   "metadata": {},
   "source": [
    "```html\n",
    "<!DOCTYPE html>\n",
    "<html>\n",
    "<title>Airline-delay-Prediction App</title>\n",
    "<body>\n",
    "<h3> Delay Prediction: {{ prediction }} </h3>\n",
    "<p><h4> [0] = No Delay </h4></p>\n",
    "<p><h4> [1] = Delay of more than 5 minutes </h4></p>\n",
    "\n",
    "</body>\n",
    "</html>\n",
    "```"
   ]
  },
  {
   "cell_type": "markdown",
   "metadata": {},
   "source": [
    "Now we should be able to run our app in the browser!\n",
    "\n",
    "make sure you're in the flask_app directory and type:\n",
    "```\n",
    "python app.py\n",
    "```"
   ]
  },
  {
   "cell_type": "markdown",
   "metadata": {},
   "source": [
    "# Step 6: Deploy the App with Heroku\n",
    "\n",
    "Now that we've made our app we need to deploy it using Heroku.\n",
    "\n",
    "Heroku is a webhosting platform.\n",
    "\n",
    "First, click [here](https://www.heroku.com/) and set up a Heroku account"
   ]
  },
  {
   "cell_type": "markdown",
   "metadata": {},
   "source": [
    "### Step 6a: Create the Procfile\n",
    "\n",
    "In the flask_app file create a file called Procfile and add:\n",
    "\n",
    "web: gunicorn app:app --log-file - "
   ]
  },
  {
   "cell_type": "markdown",
   "metadata": {},
   "source": [
    "### Step 6b: Create the requirements file\n",
    "\n",
    "In command line, run:\n",
    "\n",
    "```bash\n",
    "pip freeze > requirements.txt\n",
    "```"
   ]
  },
  {
   "cell_type": "markdown",
   "metadata": {},
   "source": [
    "### Step 6c: Install Heroku w/ Command Prompt\n",
    "\n",
    "\n",
    "See the instructions [here](https://devcenter.heroku.com/articles/getting-started-with-python#set-up)"
   ]
  },
  {
   "cell_type": "markdown",
   "metadata": {},
   "source": [
    "### Step 6d: Log in to Heroku and Deploy Your App:\n",
    "\n",
    "```bash\n",
    "heroku login\n",
    "\n",
    "git init\n",
    "\n",
    "heroku git:remote -a airline-predict-heroku\n",
    "\n",
    "git add .\n",
    "git commit -am \"adding my app\"\n",
    "git push heroku master\n",
    "\n",
    "```"
   ]
  },
  {
   "cell_type": "code",
   "execution_count": null,
   "metadata": {
    "collapsed": true
   },
   "outputs": [],
   "source": []
  },
  {
   "cell_type": "markdown",
   "metadata": {},
   "source": [
    "# Resources\n",
    "\n"
   ]
  },
  {
   "cell_type": "markdown",
   "metadata": {},
   "source": [
    "The design for the app was taken from [this demo](https://xcitech.github.io/tutorials/heroku_tutorial/)\n",
    "\n",
    "If you're interested in learning more about flask there's a great tutorial [here](https://xcitech.github.io/tutorials/heroku_tutorial/)\n",
    "\n",
    "[Medium post](https://medium.com/@amirziai/a-flask-api-for-serving-scikit-learn-models-c8bcdaa41daa) on using the Flask API"
   ]
  },
  {
   "cell_type": "code",
   "execution_count": null,
   "metadata": {
    "collapsed": true
   },
   "outputs": [],
   "source": []
  }
 ],
 "metadata": {
  "kernelspec": {
   "display_name": "Python 2",
   "language": "python",
   "name": "python2"
  },
  "language_info": {
   "codemirror_mode": {
    "name": "ipython",
    "version": 2
   },
   "file_extension": ".py",
   "mimetype": "text/x-python",
   "name": "python",
   "nbconvert_exporter": "python",
   "pygments_lexer": "ipython2",
   "version": "2.7.13"
  }
 },
 "nbformat": 4,
 "nbformat_minor": 2
}
