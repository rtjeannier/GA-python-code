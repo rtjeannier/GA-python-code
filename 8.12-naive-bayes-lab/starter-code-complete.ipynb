{
 "cells": [
  {
   "cell_type": "markdown",
   "metadata": {},
   "source": [
    "\n",
    "```\n",
    "---\n",
    "title: Insult Classifcation\n",
    "type:  lesson + lab + demo\n",
    "duration: \"1:25\"\n",
    "---\n",
    "```\n",
    "<img src=\"https://ga-dash.s3.amazonaws.com/production/assets/logo-9f88ae6c9c3871690e33280fcf557f33.png\" style=\"float: left; width: 50px; margin: 10px\">\n",
    "\n",
    "#  Naive Bayes Demo / Lab + NLP\n",
    "Week 8 | 4.3\n",
    "\n",
    "![](https://snag.gy/i5b9BX.jpg)\n",
    "\n",
    "In this dataset, we will be looking at labeled comments that look something like this:\n",
    "\n",
    "> <div style=\"float: left; margin-right: 20px;\"><img src=\"https://snag.gy/xX9hMZ.jpg\" style=\"float: left; margin-right: 10px; width: 60px;\">**Moon Master99BBQ**<br>Insult Connoisseur</div>\"You're all upset, defending this hipster band...and WE'RE the douches for reading the news and discussing it?  Put down the PBR, throw away the trucker hat, shave off that silly shadow-beard, put down your \"99%er\" sign, and get a job, ION.\"\n",
    "\n",
    "Fair warning, the content is fairly provacative but this type of problem is very common in the continuum of comment threads throughout the web.  You can also use this type of pipeline to build custom sentiment features for content specific domains that can be much more effecive than say TextBlob, for relatively low effort.\n"
   ]
  },
  {
   "cell_type": "code",
   "execution_count": 58,
   "metadata": {
    "collapsed": true
   },
   "outputs": [],
   "source": [
    "import pandas as pd, seaborn as sns, numpy as np, matplotlib.pyplot as plt\n",
    "\n",
    "from sklearn.feature_extraction.text import CountVectorizer, TfidfTransformer, TfidfVectorizer \n",
    "from sklearn.feature_extraction.text import TfidfTransformer\n",
    "from sklearn.feature_extraction.text import TfidfVectorizer\n",
    "from sklearn.learning_curve import learning_curve\n",
    "from sklearn.cross_validation import train_test_split, cross_val_score, ShuffleSplit\n",
    "from sklearn.metrics import classification_report\n",
    "from sklearn.naive_bayes import MultinomialNB, BernoulliNB, GaussianNB\n",
    "from sklearn.linear_model import LogisticRegression\n",
    "from sklearn.pipeline import Pipeline\n",
    "\n",
    "%matplotlib inline\n",
    "\n",
    "sns.set_style(\"darkgrid\")"
   ]
  },
  {
   "cell_type": "code",
   "execution_count": 2,
   "metadata": {
    "collapsed": true
   },
   "outputs": [],
   "source": [
    "insults_df = pd.read_csv(\"assets/datasets/train.csv\", encoding=\"utf-8\")"
   ]
  },
  {
   "cell_type": "markdown",
   "metadata": {},
   "source": [
    "*There are a variety of colorful expletives observed throughout this dataset.  This activity is strictly educational though and you should excersize critical thinking dispite the potentail comedic nature of the content.*"
   ]
  },
  {
   "cell_type": "code",
   "execution_count": 3,
   "metadata": {},
   "outputs": [
    {
     "data": {
      "text/html": [
       "<div>\n",
       "<style>\n",
       "    .dataframe thead tr:only-child th {\n",
       "        text-align: right;\n",
       "    }\n",
       "\n",
       "    .dataframe thead th {\n",
       "        text-align: left;\n",
       "    }\n",
       "\n",
       "    .dataframe tbody tr th {\n",
       "        vertical-align: top;\n",
       "    }\n",
       "</style>\n",
       "<table border=\"1\" class=\"dataframe\">\n",
       "  <thead>\n",
       "    <tr style=\"text-align: right;\">\n",
       "      <th></th>\n",
       "      <th>Insult</th>\n",
       "      <th>Date</th>\n",
       "      <th>Comment</th>\n",
       "    </tr>\n",
       "  </thead>\n",
       "  <tbody>\n",
       "    <tr>\n",
       "      <th>0</th>\n",
       "      <td>1</td>\n",
       "      <td>20120618192155Z</td>\n",
       "      <td>\"You fuck your dad.\"</td>\n",
       "    </tr>\n",
       "    <tr>\n",
       "      <th>1</th>\n",
       "      <td>0</td>\n",
       "      <td>20120528192215Z</td>\n",
       "      <td>\"i really don't understand your point.\\xa0 It ...</td>\n",
       "    </tr>\n",
       "    <tr>\n",
       "      <th>2</th>\n",
       "      <td>0</td>\n",
       "      <td>NaN</td>\n",
       "      <td>\"A\\\\xc2\\\\xa0majority of Canadians can and has ...</td>\n",
       "    </tr>\n",
       "    <tr>\n",
       "      <th>3</th>\n",
       "      <td>0</td>\n",
       "      <td>NaN</td>\n",
       "      <td>\"listen if you dont wanna get married to a man...</td>\n",
       "    </tr>\n",
       "    <tr>\n",
       "      <th>4</th>\n",
       "      <td>0</td>\n",
       "      <td>20120619094753Z</td>\n",
       "      <td>\"C\\xe1c b\\u1ea1n xu\\u1ed1ng \\u0111\\u01b0\\u1edd...</td>\n",
       "    </tr>\n",
       "  </tbody>\n",
       "</table>\n",
       "</div>"
      ],
      "text/plain": [
       "   Insult             Date                                            Comment\n",
       "0       1  20120618192155Z                               \"You fuck your dad.\"\n",
       "1       0  20120528192215Z  \"i really don't understand your point.\\xa0 It ...\n",
       "2       0              NaN  \"A\\\\xc2\\\\xa0majority of Canadians can and has ...\n",
       "3       0              NaN  \"listen if you dont wanna get married to a man...\n",
       "4       0  20120619094753Z  \"C\\xe1c b\\u1ea1n xu\\u1ed1ng \\u0111\\u01b0\\u1edd..."
      ]
     },
     "execution_count": 3,
     "metadata": {},
     "output_type": "execute_result"
    }
   ],
   "source": [
    "insults_df.head()"
   ]
  },
  {
   "cell_type": "markdown",
   "metadata": {},
   "source": [
    "### 1. Explore a list of comment words that occur more than 50x\n",
    "Plot a histogram of some kind might be helpful."
   ]
  },
  {
   "cell_type": "code",
   "execution_count": 33,
   "metadata": {},
   "outputs": [
    {
     "data": {
      "text/plain": [
       "the       4750\n",
       "you       3953\n",
       "to        3238\n",
       "and       2771\n",
       "of        2232\n",
       "is        1701\n",
       "that      1678\n",
       "are       1559\n",
       "it        1545\n",
       "in        1528\n",
       "your      1270\n",
       "xa0       1223\n",
       "for       1064\n",
       "on         920\n",
       "have       885\n",
       "not        850\n",
       "they       772\n",
       "be         764\n",
       "this       725\n",
       "he         722\n",
       "like       718\n",
       "with       686\n",
       "all        627\n",
       "xc2        615\n",
       "as         602\n",
       "just       557\n",
       "what       549\n",
       "so         547\n",
       "was        512\n",
       "if         511\n",
       "but        502\n",
       "we         498\n",
       "or         483\n",
       "can        471\n",
       "will       471\n",
       "do         463\n",
       "up         462\n",
       "no         440\n",
       "who        438\n",
       "don        436\n",
       "about      435\n",
       "an         427\n",
       "from       422\n",
       "people     419\n",
       "his        410\n",
       "get        398\n",
       "at         389\n",
       "my         384\n",
       "would      371\n",
       "me         365\n",
       "dtype: int64"
      ]
     },
     "execution_count": 33,
     "metadata": {},
     "output_type": "execute_result"
    }
   ],
   "source": [
    "cvt = CountVectorizer()\n",
    "X_all = cvt.fit_transform(insults_df[\"Comment\"])\n",
    "X = pd.DataFrame(data=X_all.todense(), columns = cvt.get_feature_names())\n",
    "## Complete your code -- observe the desired output already below frame\n",
    "X.sum().nlargest(50)"
   ]
  },
  {
   "cell_type": "markdown",
   "metadata": {},
   "source": [
    "### 1.5 Try it again with stopword removal "
   ]
  },
  {
   "cell_type": "code",
   "execution_count": 34,
   "metadata": {},
   "outputs": [
    {
     "data": {
      "text/plain": [
       "xa0        1223\n",
       "like        718\n",
       "xc2         615\n",
       "just        557\n",
       "don         436\n",
       "people      419\n",
       "know        328\n",
       "think       302\n",
       "fuck        242\n",
       "x80         224\n",
       "right       223\n",
       "time        219\n",
       "xe2         213\n",
       "make        211\n",
       "good        207\n",
       "really      194\n",
       "http        192\n",
       "say         183\n",
       "way         182\n",
       "little      174\n",
       "ass         171\n",
       "want        171\n",
       "fucking     170\n",
       "obama       159\n",
       "going       154\n",
       "need        154\n",
       "stupid      154\n",
       "did         153\n",
       "man         153\n",
       "got         150\n",
       "shit        148\n",
       "idiot       144\n",
       "better      137\n",
       "life        133\n",
       "look        129\n",
       "does        125\n",
       "gay         125\n",
       "ll          124\n",
       "said        118\n",
       "years       118\n",
       "money       115\n",
       "bitch       108\n",
       "come        108\n",
       "white       106\n",
       "day         104\n",
       "big         100\n",
       "lol         100\n",
       "year        100\n",
       "stop         98\n",
       "let          95\n",
       "dtype: int64"
      ]
     },
     "execution_count": 34,
     "metadata": {},
     "output_type": "execute_result"
    }
   ],
   "source": [
    "cvt = CountVectorizer(stop_words=\"english\")\n",
    "X_all = cvt.fit_transform(insults_df[\"Comment\"])\n",
    "X = pd.DataFrame(data=X_all.todense(), columns = cvt.get_feature_names())\n",
    "## Complete your code -- observe the desired output already below frame\n",
    "X.sum().nlargest(50)\n",
    "# observe desired output below"
   ]
  },
  {
   "cell_type": "markdown",
   "metadata": {},
   "source": [
    "### 2. Explore ngrams between 2 and 4\n",
    "Display the top 75 ngrams with frequencies."
   ]
  },
  {
   "cell_type": "code",
   "execution_count": 43,
   "metadata": {
    "scrolled": false
   },
   "outputs": [
    {
     "data": {
      "text/plain": [
       "xc2 xa0                    379\n",
       "xe2 x80                    209\n",
       "xa0 xa0                    144\n",
       "http shar                   68\n",
       "http shar es                68\n",
       "shar es                     68\n",
       "trade trade                 63\n",
       "trade trade trade           62\n",
       "trade trade trade trade     61\n",
       "u2026 u2026                 59\n",
       "xa0 xa0 xa0                 57\n",
       "u2026 u2026 u2026           52\n",
       "xa0 xa0 xa0 xa0             49\n",
       "xa0 xc2                     46\n",
       "xc2 xa0 xc2                 46\n",
       "u2026 u2026 u2026 u2026     45\n",
       "don know                    43\n",
       "x80 x99s                    41\n",
       "xe2 x80 x99s                41\n",
       "look like                   35\n",
       "xa0 xc2 xa0                 35\n",
       "xc2 xa0 xc2 xa0             35\n",
       "bit ly                      34\n",
       "x80 x9d                     34\n",
       "xe2 x80 x9d                 34\n",
       "bit ly mrzlgv               32\n",
       "gay marriage                32\n",
       "ly mrzlgv                   32\n",
       "x80 x99t                    30\n",
       "xe2 x80 x99t                30\n",
       "                          ... \n",
       "mrzlgv http shar            18\n",
       "mrzlgv http shar es         18\n",
       "nhttp www                   18\n",
       "don understand              17\n",
       "ha ha                       17\n",
       "ron paul                    17\n",
       "xa0 don                     17\n",
       "democrat representative     16\n",
       "fox news                    16\n",
       "u03dfc shock                15\n",
       "www youtube                 15\n",
       "www youtube com             15\n",
       "xe3 x80                     15\n",
       "years ago                   15\n",
       "youtube com                 15\n",
       "big deal                    14\n",
       "http www                    14\n",
       "people don                  14\n",
       "right wing                  14\n",
       "x80 xa6                     14\n",
       "xe2 x80 xa6                 14\n",
       "act like                    13\n",
       "black people                13\n",
       "com watch                   13\n",
       "don care                    13\n",
       "don want                    13\n",
       "just want                   13\n",
       "sounds like                 13\n",
       "www youtube com watch       13\n",
       "xc2 xa0i                    13\n",
       "Length: 75, dtype: int64"
      ]
     },
     "execution_count": 43,
     "metadata": {},
     "output_type": "execute_result"
    }
   ],
   "source": [
    "cvt = CountVectorizer(stop_words=\"english\", ngram_range=[2,4]) # look up the appropriate parameters\n",
    "X_all = cvt.fit_transform(insults_df[\"Comment\"])\n",
    "X = pd.DataFrame(data=X_all.todense(), columns = cvt.get_feature_names())\n",
    "## Complete your code -- observe the desired output already below frame\n",
    "X.sum().nlargest(75)"
   ]
  },
  {
   "cell_type": "markdown",
   "metadata": {},
   "source": [
    "### 3. (Optional) try expanding the list of stopwords\n",
    "There's definitely some extra crap floating around our lovely ngrams like xa0, x80, web urls, and a bunch of other things.  If you could remove them, this could help us improve the score.  Identify words / tokens that don't add much value to either class.  **You should additionally look at ngrams per class (insults vs non-insults) to fine tune your preprocessing.  This has the greatest potential to improve your results without tuning any model parameters.**\n",
    "\n",
    "Using `nltk.corpus`, we can get a baseline list of stop words.  Try to expand it and pass it to our vectorizer."
   ]
  },
  {
   "cell_type": "code",
   "execution_count": 41,
   "metadata": {},
   "outputs": [
    {
     "data": {
      "text/plain": [
       "trade trade                63\n",
       "trade trade trade          62\n",
       "trade trade trade trade    61\n",
       "look like                  36\n",
       "go back                    34\n",
       "gay marriage               32\n",
       "people like                27\n",
       "looks like                 25\n",
       "sound like                 23\n",
       "united states              23\n",
       "ha ha                      17\n",
       "ron paul                   17\n",
       "democrat representative    16\n",
       "fox news                   16\n",
       "would like                 16\n",
       "years ago                  15\n",
       "big deal                   14\n",
       "come back                  14\n",
       "go away                    14\n",
       "right wing                 14\n",
       "act like                   13\n",
       "black people               13\n",
       "sounds like                13\n",
       "youtube watch              13\n",
       "disqus guest               12\n",
       "dont know                  12\n",
       "last year                  12\n",
       "like one                   12\n",
       "like see                   12\n",
       "many people                12\n",
       "pleaded guilty             12\n",
       "year old                   12\n",
       "get life                   11\n",
       "next time                  11\n",
       "shut fuck                  11\n",
       "white house                11\n",
       "white people               11\n",
       "anyone else                10\n",
       "ass nigga                  10\n",
       "every time                 10\n",
       "feel like                  10\n",
       "get back                   10\n",
       "go get                     10\n",
       "one day                    10\n",
       "one thing                  10\n",
       "piece shit                 10\n",
       "shock shock                10\n",
       "someone else               10\n",
       "three years                10\n",
       "would never                10\n",
       "dtype: int64"
      ]
     },
     "execution_count": 41,
     "metadata": {},
     "output_type": "execute_result"
    }
   ],
   "source": [
    "from nltk.corpus import stopwords\n",
    "stop = stopwords.words('english')\n",
    "stop = stop + ['www', 'xa0electr','com', 'div','shar', 'es','xa0', 'x80', 'http','x80','mrzlgv','nhttp', 'u2026', 'xe2', 'x99t', 'x9d', 'x99s', 'ly','xc2', 'u03dfc']\n",
    "cvt = CountVectorizer(stop_words=stop, ngram_range=[2,4]) # look up the appropriate parameters\n",
    "X_all = cvt.fit_transform(insults_df[\"Comment\"])\n",
    "X = pd.DataFrame(data=X_all.todense(), columns = cvt.get_feature_names())\n",
    "## Complete your code -- observe the desired output already below frame\n",
    "X.sum().nlargest(50)"
   ]
  },
  {
   "cell_type": "code",
   "execution_count": 45,
   "metadata": {},
   "outputs": [
    {
     "data": {
      "text/plain": [
       "trade trade                63\n",
       "trade trade trade          62\n",
       "trade trade trade trade    61\n",
       "gay marriage               29\n",
       "look like                  25\n",
       "looks like                 22\n",
       "united states              22\n",
       "people like                19\n",
       "democrat representative    16\n",
       "fox news                   15\n",
       "ron paul                   14\n",
       "would like                 14\n",
       "years ago                  14\n",
       "big deal                   13\n",
       "disqus guest               12\n",
       "ha ha                      12\n",
       "pleaded guilty             12\n",
       "youtube watch              12\n",
       "come back                  11\n",
       "go back                    11\n",
       "anyone else                10\n",
       "last year                  10\n",
       "shock shock                10\n",
       "sounds like                10\n",
       "three years                10\n",
       "act like                    9\n",
       "class forum                 9\n",
       "class forum item            9\n",
       "democratic party            9\n",
       "forum item                  9\n",
       "give fucking                9\n",
       "kh xf4ng                    9\n",
       "many people                 9\n",
       "president obama             9\n",
       "right wing                  9\n",
       "white house                 9\n",
       "xbf xbf                     9\n",
       "years prison                9\n",
       "co yhelahaq                 8\n",
       "collective bargaining       8\n",
       "damn rite                   8\n",
       "dont know                   8\n",
       "everyone else               8\n",
       "federal government          8\n",
       "fucking like                8\n",
       "give fucking like           8\n",
       "good luck                   8\n",
       "house representatives       8\n",
       "like one                    8\n",
       "like see                    8\n",
       "dtype: int64"
      ]
     },
     "execution_count": 45,
     "metadata": {},
     "output_type": "execute_result"
    }
   ],
   "source": [
    "stop = stopwords.words('english')\n",
    "stop = stop + ['www', 'xa0electr','com', 'div','shar', 'es','xa0', 'x80', 'http','x80','mrzlgv','nhttp', 'u2026', 'xe2', 'x99t', 'x9d', 'x99s', 'ly','xc2', 'u03dfc']\n",
    "cvt = CountVectorizer(stop_words=stop, ngram_range=[2,4]) # look up the appropriate parameters\n",
    "X_all = cvt.fit_transform(insults_df[insults_df.Insult == 0][\"Comment\"])\n",
    "X = pd.DataFrame(data=X_all.todense(), columns = cvt.get_feature_names())\n",
    "## Complete your code -- observe the desired output already below frame\n",
    "X.sum().nlargest(50)"
   ]
  },
  {
   "cell_type": "code",
   "execution_count": 46,
   "metadata": {},
   "outputs": [
    {
     "data": {
      "text/plain": [
       "go back            23\n",
       "sound like         15\n",
       "black people       11\n",
       "look like          11\n",
       "ass nigga          10\n",
       "get life            9\n",
       "go away             9\n",
       "shut fuck           9\n",
       "crawl back          8\n",
       "go get              8\n",
       "people like         8\n",
       "piece shit          8\n",
       "dumb ass            7\n",
       "screen name         7\n",
       "suck dick           7\n",
       "fat ass             6\n",
       "like idiot          6\n",
       "go fuck             5\n",
       "ha ha               5\n",
       "illegals good       5\n",
       "next time           5\n",
       "really stupid       5\n",
       "right wing          5\n",
       "son bitch           5\n",
       "white people        5\n",
       "year old            5\n",
       "act like            4\n",
       "bitch ass           4\n",
       "cock sucker         4\n",
       "dont know           4\n",
       "dumb know           4\n",
       "every single        4\n",
       "feel like           4\n",
       "fucked ya           4\n",
       "fucking dumb        4\n",
       "get rained          4\n",
       "hope get            4\n",
       "idiotic comment     4\n",
       "ima fuck            4\n",
       "like one            4\n",
       "like see            4\n",
       "little boy          4\n",
       "many times          4\n",
       "mother fucker       4\n",
       "need us             4\n",
       "non believers       4\n",
       "people get          4\n",
       "shit like           4\n",
       "someone else        4\n",
       "talk shit           4\n",
       "dtype: int64"
      ]
     },
     "execution_count": 46,
     "metadata": {},
     "output_type": "execute_result"
    }
   ],
   "source": [
    "stop = stopwords.words('english')\n",
    "stop = stop + ['www', 'xa0electr','com', 'div','shar', 'es','xa0', 'x80', 'http','x80','mrzlgv','nhttp', 'u2026', 'xe2', 'x99t', 'x9d', 'x99s', 'ly','xc2', 'u03dfc']\n",
    "cvt = CountVectorizer(stop_words=stop, ngram_range=[2,4]) # look up the appropriate parameters\n",
    "X_all = cvt.fit_transform(insults_df[insults_df.Insult == 1][\"Comment\"])\n",
    "X = pd.DataFrame(data=X_all.todense(), columns = cvt.get_feature_names())\n",
    "## Complete your code -- observe the desired output already below frame\n",
    "X.sum().nlargest(50)"
   ]
  },
  {
   "cell_type": "markdown",
   "metadata": {},
   "source": [
    "### 4. Setup a test / train split of your data using any method you wish.\n",
    "Try 70/30 to start."
   ]
  },
  {
   "cell_type": "code",
   "execution_count": 50,
   "metadata": {
    "collapsed": true
   },
   "outputs": [],
   "source": [
    "y = insults_df.Insult\n",
    "X = insults_df.Comment"
   ]
  },
  {
   "cell_type": "code",
   "execution_count": 51,
   "metadata": {
    "collapsed": true
   },
   "outputs": [],
   "source": [
    "X_train, X_test, y_train, y_test = train_test_split(X, y, test_size=0.33, random_state=42)"
   ]
  },
  {
   "cell_type": "markdown",
   "metadata": {},
   "source": [
    "### 5. Setup a \"Pipeline\" to vectorize and use MultinomialNB classifier.\n",
    "Check out our last lab to set this up.  Use lowercase, strip_accents, and optionally your updated stop_words.  Fit your comment data using your \"Insult\" feature as your response.\n",
    "\n",
    "Fit your training data to your pipeline, then score it."
   ]
  },
  {
   "cell_type": "code",
   "execution_count": 68,
   "metadata": {},
   "outputs": [
    {
     "data": {
      "text/plain": [
       "0.74290099769762086"
      ]
     },
     "execution_count": 68,
     "metadata": {},
     "output_type": "execute_result"
    }
   ],
   "source": [
    "f"
   ]
  },
  {
   "cell_type": "markdown",
   "metadata": {},
   "source": [
    "### 5.5a Swap out MultinomialNB with BernoulliNB in the pipeline\n",
    "How do they compare?"
   ]
  },
  {
   "cell_type": "code",
   "execution_count": 69,
   "metadata": {},
   "outputs": [
    {
     "data": {
      "text/plain": [
       "0.73445894090560249"
      ]
     },
     "execution_count": 69,
     "metadata": {},
     "output_type": "execute_result"
    }
   ],
   "source": [
    "pipeline = Pipeline([\n",
    "    ('vect', cvt),\n",
    "    ('tfidf', TfidfTransformer()),\n",
    "    ('cls', BernoulliNB())\n",
    "]) \n",
    "pipeline.fit(X_train, y_train)\n",
    "\n",
    "# don't forget to score\n",
    "pipeline.score(X_test, y_test)"
   ]
  },
  {
   "cell_type": "markdown",
   "metadata": {},
   "source": [
    "### 5.5a Also try logistic regression, and random forrests in the pipeline\n",
    "How do they compare?"
   ]
  },
  {
   "cell_type": "code",
   "execution_count": 70,
   "metadata": {},
   "outputs": [
    {
     "data": {
      "text/plain": [
       "0.79201841903300074"
      ]
     },
     "execution_count": 70,
     "metadata": {},
     "output_type": "execute_result"
    }
   ],
   "source": [
    "pipeline = Pipeline([\n",
    "    ('vect', cvt),\n",
    "    ('tfidf', TfidfTransformer()),\n",
    "    ('logr', LogisticRegression())\n",
    "]) \n",
    "pipeline.fit(X_train, y_train)\n",
    "\n",
    "# don't forget to score\n",
    "pipeline.score(X_test, y_test)"
   ]
  },
  {
   "cell_type": "code",
   "execution_count": 71,
   "metadata": {},
   "outputs": [
    {
     "data": {
      "text/plain": [
       "0.80583269378357636"
      ]
     },
     "execution_count": 71,
     "metadata": {},
     "output_type": "execute_result"
    }
   ],
   "source": [
    "from sklearn.ensemble import RandomForestClassifier\n",
    "\n",
    "pipeline = Pipeline([\n",
    "    ('vect', cvt),\n",
    "    ('tfidf', TfidfTransformer()),\n",
    "    ('rf', RandomForestClassifier())\n",
    "]) \n",
    "pipeline.fit(X_train, y_train)\n",
    "\n",
    "# don't forget to score\n",
    "pipeline.score(X_test, y_test)"
   ]
  },
  {
   "cell_type": "markdown",
   "metadata": {},
   "source": [
    "#### 5.5b Also try tweeking the paramters of CountVectorizer and TfidfTranformer.\n",
    "\n",
    "Remove Tfidf also. Good / bad?"
   ]
  },
  {
   "cell_type": "code",
   "execution_count": 72,
   "metadata": {},
   "outputs": [
    {
     "data": {
      "text/plain": [
       "0.79278587874136608"
      ]
     },
     "execution_count": 72,
     "metadata": {},
     "output_type": "execute_result"
    }
   ],
   "source": [
    "from sklearn.ensemble import RandomForestClassifier\n",
    "\n",
    "pipeline = Pipeline([\n",
    "    ('vect', cvt),\n",
    "    ('rf', RandomForestClassifier())\n",
    "]) \n",
    "pipeline.fit(X_train, y_train)\n",
    "\n",
    "# don't forget to score\n",
    "pipeline.score(X_test, y_test)"
   ]
  },
  {
   "cell_type": "markdown",
   "metadata": {},
   "source": [
    "The best seems to be with random forest and tfidf"
   ]
  },
  {
   "cell_type": "markdown",
   "metadata": {},
   "source": [
    "### 6. Check your score.\n",
    "Also, run a classification report and [plot AUC/ROC](../../week-04/2.3-evaluating_model_fit/code/AUC-ROC-codealong.ipynb).  Also, [review classfication reporting metrics](../../week-04/4.3-advanced-model_evaluation/code/starter-code/week4-4.1-classification-report.ipynb)."
   ]
  },
  {
   "cell_type": "code",
   "execution_count": 76,
   "metadata": {},
   "outputs": [
    {
     "name": "stdout",
     "output_type": "stream",
     "text": [
      "             precision    recall  f1-score   support\n",
      "\n",
      " not insult       0.81      0.94      0.87       957\n",
      "     insult       0.70      0.39      0.50       346\n",
      "\n",
      "avg / total       0.78      0.79      0.77      1303\n",
      "\n"
     ]
    }
   ],
   "source": [
    "pred = pipeline.predict(X_test)\n",
    "print(classification_report(y_test, pred, labels=[0, 1], target_names=['not insult', 'insult']))"
   ]
  },
  {
   "cell_type": "code",
   "execution_count": 80,
   "metadata": {},
   "outputs": [
    {
     "data": {
      "image/png": "[encoded data removed]",
      "text/plain": [
       "<matplotlib.figure.Figure at 0x7f118de5ca90>"
      ]
     },
     "metadata": {},
     "output_type": "display_data"
    }
   ],
   "source": [
    "from sklearn.metrics import roc_curve, auc\n",
    "\n",
    "pred_proba = pipeline.predict_proba(X_test)\n",
    "fpr, tpr, threshold = roc_curve(y_test, pred_proba[:,1])\n",
    "roc_auc = auc(fpr, tpr)\n",
    "\n",
    "plt.title('Receiver Operating Characteristic');\n",
    "plt.plot(fpr, tpr, 'b', label = 'AUC = %0.2f' % roc_auc);\n",
    "plt.legend(loc = 'lower right');\n",
    "plt.plot([0, 1], [0, 1],'r--');\n",
    "plt.xlim([0, 1]);\n",
    "plt.ylim([0, 1]);\n",
    "plt.ylabel('True Positive Rate');\n",
    "plt.xlabel('False Positive Rate');"
   ]
  },
  {
   "cell_type": "markdown",
   "metadata": {},
   "source": [
    "## Lastly...\n",
    "\n",
    "Check [this blog post](http://webmining.olariu.org/my-first-kaggle-competition-and-how-i-ranked/) by a guy who used SVM, a \"neural network\", a ton of cleaning, then placed 3rd in a Kaggle competition featuing this same dataset.  Given that you used a few basic techniques with preprocessing text and Naive Bayes, what do think about the tradeoffs of simplicity vs complexity of your model?\n",
    "\n",
    "#### Where Next?\n",
    "\n",
    "If you're interested in this type of problem, a great area to read up on is sentiment analysis.  This [Kaggle dataset](https://www.kaggle.com/c/sentiment-analysis-on-movie-reviews/data) is an excellent opportunity to practice more.  Also these whitepapers are great places to expand on this topic:\n",
    "\n",
    "- [Fast and accurate sentiment classification using an\n",
    "enhanced Naive Bayes model](http://arxiv.org/pdf/1305.6143.pdf) *Great overview!*\n",
    "- [Sarcasm Detection](http://www.aclweb.org/anthology/P15-2124)\n",
    "- [Making Computers Laugh:\n",
    "Investigations in Automatic Humor Recognition](http://www.aclweb.org/anthology/H05-1067)\n",
    "- [Modelling Sarcasm in Twitter, a Novel Approach](http://www.aclweb.org/anthology/W14-2609)\n",
    "- [RUNNING HEAD: NARCISSISM AND LIE DETECTION](https://deepblue.lib.umich.edu/bitstream/handle/2027.42/107345/zarins.finalthesis.pdf?sequence=1) *The study metrics are interesting*"
   ]
  },
  {
   "cell_type": "code",
   "execution_count": null,
   "metadata": {
    "collapsed": true
   },
   "outputs": [],
   "source": []
  }
 ],
 "metadata": {
  "anaconda-cloud": {},
  "kernelspec": {
   "display_name": "Python 3",
   "language": "python",
   "name": "python3"
  },
  "language_info": {
   "codemirror_mode": {
    "name": "ipython",
    "version": 3
   },
   "file_extension": ".py",
   "mimetype": "text/x-python",
   "name": "python",
   "nbconvert_exporter": "python",
   "pygments_lexer": "ipython3",
   "version": "3.6.1"
  }
 },
 "nbformat": 4,
 "nbformat_minor": 1
}
